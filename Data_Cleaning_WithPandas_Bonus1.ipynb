{
 "cells": [
  {
   "cell_type": "code",
   "execution_count": 1,
   "metadata": {},
   "outputs": [],
   "source": [
    "import pandas as pd\n",
    "import random\n",
    "import numpy as np\n",
    "from datetime import datetime as dt\n",
    "import matplotlib.pyplot as plt\n",
    "import seaborn as sns\n",
    "import plotly.graph_objects as go\n",
    "import pyodbc "
   ]
  },
  {
   "cell_type": "code",
   "execution_count": 106,
   "metadata": {},
   "outputs": [],
   "source": [
    "ds= pd.read_csv(\"D:\\\\College FCDS\\\\Assignments\\\\y2t1\\\\DSmethodology\\\\movies_data.csv\")"
   ]
  },
  {
   "cell_type": "code",
   "execution_count": 107,
   "metadata": {},
   "outputs": [
    {
     "name": "stdout",
     "output_type": "stream",
     "text": [
      "<class 'pandas.core.frame.DataFrame'>\n",
      "RangeIndex: 722796 entries, 0 to 722795\n",
      "Data columns (total 15 columns):\n",
      " #   Column                Non-Null Count   Dtype  \n",
      "---  ------                --------------   -----  \n",
      " 0   id                    722796 non-null  int64  \n",
      " 1   Title                 722790 non-null  object \n",
      " 2   genres                511934 non-null  object \n",
      " 3   original_language     722796 non-null  object \n",
      " 4   popularity            722796 non-null  float64\n",
      " 5   production_companies  337170 non-null  object \n",
      " 6   release_date          670329 non-null  object \n",
      " 7   budget                722796 non-null  int64  \n",
      " 8   revenue               722796 non-null  int64  \n",
      " 9   runtime               688346 non-null  float64\n",
      " 10  status                722796 non-null  object \n",
      " 11  tagline               108098 non-null  object \n",
      " 12  votes                 722796 non-null  float64\n",
      " 13  vote_count            722796 non-null  int64  \n",
      " 14  Actors                497689 non-null  object \n",
      "dtypes: float64(3), int64(4), object(8)\n",
      "memory usage: 82.7+ MB\n"
     ]
    }
   ],
   "source": [
    "ds.info()"
   ]
  },
  {
   "cell_type": "code",
   "execution_count": 108,
   "metadata": {},
   "outputs": [
    {
     "data": {
      "text/plain": [
       "id                           0\n",
       "Title                        6\n",
       "genres                  210862\n",
       "original_language            0\n",
       "popularity                   0\n",
       "production_companies    385626\n",
       "release_date             52467\n",
       "budget                       0\n",
       "revenue                      0\n",
       "runtime                  34450\n",
       "status                       0\n",
       "tagline                 614698\n",
       "votes                        0\n",
       "vote_count                   0\n",
       "Actors                  225107\n",
       "dtype: int64"
      ]
     },
     "execution_count": 108,
     "metadata": {},
     "output_type": "execute_result"
    }
   ],
   "source": [
    "ds.isna().sum()"
   ]
  },
  {
   "cell_type": "code",
   "execution_count": 109,
   "metadata": {},
   "outputs": [
    {
     "data": {
      "text/html": [
       "<div>\n",
       "<style scoped>\n",
       "    .dataframe tbody tr th:only-of-type {\n",
       "        vertical-align: middle;\n",
       "    }\n",
       "\n",
       "    .dataframe tbody tr th {\n",
       "        vertical-align: top;\n",
       "    }\n",
       "\n",
       "    .dataframe thead th {\n",
       "        text-align: right;\n",
       "    }\n",
       "</style>\n",
       "<table border=\"1\" class=\"dataframe\">\n",
       "  <thead>\n",
       "    <tr style=\"text-align: right;\">\n",
       "      <th></th>\n",
       "      <th>id</th>\n",
       "      <th>popularity</th>\n",
       "      <th>budget</th>\n",
       "      <th>revenue</th>\n",
       "      <th>runtime</th>\n",
       "      <th>votes</th>\n",
       "      <th>vote_count</th>\n",
       "    </tr>\n",
       "  </thead>\n",
       "  <tbody>\n",
       "    <tr>\n",
       "      <th>count</th>\n",
       "      <td>722796.000000</td>\n",
       "      <td>722796.000000</td>\n",
       "      <td>7.227960e+05</td>\n",
       "      <td>7.227960e+05</td>\n",
       "      <td>6.883460e+05</td>\n",
       "      <td>722796.000000</td>\n",
       "      <td>722796.000000</td>\n",
       "    </tr>\n",
       "    <tr>\n",
       "      <th>mean</th>\n",
       "      <td>526917.587990</td>\n",
       "      <td>1.807185</td>\n",
       "      <td>3.924801e+05</td>\n",
       "      <td>9.776385e+05</td>\n",
       "      <td>1.989186e+02</td>\n",
       "      <td>2.443118</td>\n",
       "      <td>27.610661</td>\n",
       "    </tr>\n",
       "    <tr>\n",
       "      <th>std</th>\n",
       "      <td>253164.471522</td>\n",
       "      <td>18.839397</td>\n",
       "      <td>8.136181e+06</td>\n",
       "      <td>2.010908e+07</td>\n",
       "      <td>8.581987e+04</td>\n",
       "      <td>3.175498</td>\n",
       "      <td>381.523676</td>\n",
       "    </tr>\n",
       "    <tr>\n",
       "      <th>min</th>\n",
       "      <td>2.000000</td>\n",
       "      <td>0.600000</td>\n",
       "      <td>0.000000e+00</td>\n",
       "      <td>-1.200000e+01</td>\n",
       "      <td>0.000000e+00</td>\n",
       "      <td>0.000000</td>\n",
       "      <td>0.000000</td>\n",
       "    </tr>\n",
       "    <tr>\n",
       "      <th>25%</th>\n",
       "      <td>328947.750000</td>\n",
       "      <td>0.600000</td>\n",
       "      <td>0.000000e+00</td>\n",
       "      <td>0.000000e+00</td>\n",
       "      <td>5.000000e+00</td>\n",
       "      <td>0.000000</td>\n",
       "      <td>0.000000</td>\n",
       "    </tr>\n",
       "    <tr>\n",
       "      <th>50%</th>\n",
       "      <td>533364.500000</td>\n",
       "      <td>0.600000</td>\n",
       "      <td>0.000000e+00</td>\n",
       "      <td>0.000000e+00</td>\n",
       "      <td>5.000000e+01</td>\n",
       "      <td>0.000000</td>\n",
       "      <td>0.000000</td>\n",
       "    </tr>\n",
       "    <tr>\n",
       "      <th>75%</th>\n",
       "      <td>737817.250000</td>\n",
       "      <td>1.290000</td>\n",
       "      <td>0.000000e+00</td>\n",
       "      <td>0.000000e+00</td>\n",
       "      <td>9.000000e+01</td>\n",
       "      <td>5.600000</td>\n",
       "      <td>2.000000</td>\n",
       "    </tr>\n",
       "    <tr>\n",
       "      <th>max</th>\n",
       "      <td>968161.000000</td>\n",
       "      <td>6682.100000</td>\n",
       "      <td>5.000000e+09</td>\n",
       "      <td>2.920357e+09</td>\n",
       "      <td>5.050505e+07</td>\n",
       "      <td>10.000000</td>\n",
       "      <td>33262.000000</td>\n",
       "    </tr>\n",
       "  </tbody>\n",
       "</table>\n",
       "</div>"
      ],
      "text/plain": [
       "                  id     popularity        budget       revenue       runtime  \\\n",
       "count  722796.000000  722796.000000  7.227960e+05  7.227960e+05  6.883460e+05   \n",
       "mean   526917.587990       1.807185  3.924801e+05  9.776385e+05  1.989186e+02   \n",
       "std    253164.471522      18.839397  8.136181e+06  2.010908e+07  8.581987e+04   \n",
       "min         2.000000       0.600000  0.000000e+00 -1.200000e+01  0.000000e+00   \n",
       "25%    328947.750000       0.600000  0.000000e+00  0.000000e+00  5.000000e+00   \n",
       "50%    533364.500000       0.600000  0.000000e+00  0.000000e+00  5.000000e+01   \n",
       "75%    737817.250000       1.290000  0.000000e+00  0.000000e+00  9.000000e+01   \n",
       "max    968161.000000    6682.100000  5.000000e+09  2.920357e+09  5.050505e+07   \n",
       "\n",
       "               votes     vote_count  \n",
       "count  722796.000000  722796.000000  \n",
       "mean        2.443118      27.610661  \n",
       "std         3.175498     381.523676  \n",
       "min         0.000000       0.000000  \n",
       "25%         0.000000       0.000000  \n",
       "50%         0.000000       0.000000  \n",
       "75%         5.600000       2.000000  \n",
       "max        10.000000   33262.000000  "
      ]
     },
     "execution_count": 109,
     "metadata": {},
     "output_type": "execute_result"
    }
   ],
   "source": [
    "# Define the list of columns you want to keep\n",
    "columns_to_filter = [\n",
    "    \"id\", \"Title\", \"genres\", \"original_language\", \"popularity\", \n",
    "    \"production_companies\", \"release_date\", \"budget\", \"revenue\", \n",
    "    \"runtime\", \"status\", \"votes\", \"vote_count\", \"Actors\"\n",
    "]\n",
    "\n",
    "# Select only the columns from the list\n",
    "ds = ds[columns_to_filter]\n",
    "\n",
    "# Display the filtered DataFrame\n",
    "ds.describe()"
   ]
  },
  {
   "cell_type": "markdown",
   "metadata": {},
   "source": [
    "Correcting datatypes"
   ]
  },
  {
   "cell_type": "code",
   "execution_count": 110,
   "metadata": {},
   "outputs": [],
   "source": [
    "ds=ds.dropna(subset=\"Title\") #because its our prime factor for grouping\n",
    "ds[\"release_date\"] = pd.to_datetime(ds[\"release_date\"], errors='coerce')\n",
    "ds[\"original_language\"]=ds[\"original_language\"].astype(\"string\")\n",
    "ds[\"status\"]=ds[\"status\"].astype(\"string\")\n"
   ]
  },
  {
   "cell_type": "code",
   "execution_count": 111,
   "metadata": {},
   "outputs": [
    {
     "name": "stdout",
     "output_type": "stream",
     "text": [
      "Number of duplicates: 233131\n"
     ]
    }
   ],
   "source": [
    "# Step 1: Create a new column with the title in lowercase and stripped of whitespace\n",
    "ds['cleaned_title'] = ds['Title'].str.lower().str.strip()\n",
    "\n",
    "# Step 2: Find duplicates in the 'cleaned_title' column\n",
    "duplicates = ds[ds.duplicated(subset=['cleaned_title'], keep=False)]\n",
    "\n",
    "# Step 3: Get the count of duplicates\n",
    "duplicate_count = duplicates.shape[0]\n",
    "\n",
    "# Display the result\n",
    "print(f\"Number of duplicates: {duplicate_count}\")\n"
   ]
  },
  {
   "cell_type": "code",
   "execution_count": 112,
   "metadata": {},
   "outputs": [
    {
     "name": "stdout",
     "output_type": "stream",
     "text": [
      "Number of duplicate movie IDs: 115987\n"
     ]
    }
   ],
   "source": [
    "# Step 1: Check for duplicates in the 'movie id' column\n",
    "duplicates_id = ds[ds.duplicated(subset=['id'], keep=False)]\n",
    "\n",
    "# Step 2: Get the count of duplicates in the 'id' column\n",
    "duplicate_count_id = duplicates_id.shape[0]\n",
    "\n",
    "# Display the result\n",
    "print(f\"Number of duplicate movie IDs: {duplicate_count_id}\")\n"
   ]
  },
  {
   "cell_type": "code",
   "execution_count": 128,
   "metadata": {},
   "outputs": [
    {
     "data": {
      "text/plain": [
       "(571382, 15)"
      ]
     },
     "execution_count": 128,
     "metadata": {},
     "output_type": "execute_result"
    }
   ],
   "source": [
    "grouped = ds.groupby('cleaned_title').agg(\n",
    "    # Numeric columns: calculate the mean for columns like revenue, budget, etc.\n",
    "    Title=('Title', 'first'),\n",
    "    id=('id','first'),\n",
    "    revenue=('revenue', 'mean'),\n",
    "    budget=('budget', 'mean'),\n",
    "    votes=('votes', 'mean'),\n",
    "    # Other columns: get the first value for date and original title\n",
    "    release_date=('release_date', 'first'),\n",
    "    Actors=('Actors',\"first\"),\n",
    "    production_companies=('production_companies','first'),\n",
    "    genres=('genres','first'),\n",
    "    status=('status','first'),\n",
    "    original_language=('original_language','first'),\n",
    "    runtime=('runtime','mean'),\n",
    "    vote_count=('vote_count','mean'),\n",
    "    popularity=('popularity','mean')\n",
    ").reset_index()\n",
    "\n",
    "# Display the grouped DataFrame\n",
    "grouped.shape"
   ]
  },
  {
   "cell_type": "code",
   "execution_count": 129,
   "metadata": {},
   "outputs": [
    {
     "name": "stdout",
     "output_type": "stream",
     "text": [
      "Number of duplicates: 0\n"
     ]
    }
   ],
   "source": [
    "\n",
    "# Step 2: Find duplicates in the 'cleaned_title' column\n",
    "duplicates = grouped[grouped.duplicated(subset=['cleaned_title'], keep=False)]\n",
    "\n",
    "# Step 3: Get the count of duplicates\n",
    "duplicate_count = duplicates.shape[0]\n",
    "\n",
    "# Display the result\n",
    "print(f\"Number of duplicates: {duplicate_count}\")\n"
   ]
  },
  {
   "cell_type": "code",
   "execution_count": 130,
   "metadata": {},
   "outputs": [
    {
     "name": "stdout",
     "output_type": "stream",
     "text": [
      "<class 'pandas.core.frame.DataFrame'>\n",
      "RangeIndex: 571382 entries, 0 to 571381\n",
      "Data columns (total 15 columns):\n",
      " #   Column                Non-Null Count   Dtype         \n",
      "---  ------                --------------   -----         \n",
      " 0   cleaned_title         571382 non-null  object        \n",
      " 1   Title                 571382 non-null  object        \n",
      " 2   id                    571382 non-null  int64         \n",
      " 3   revenue               571382 non-null  float64       \n",
      " 4   budget                571382 non-null  float64       \n",
      " 5   votes                 571382 non-null  float64       \n",
      " 6   release_date          527231 non-null  datetime64[ns]\n",
      " 7   Actors                388358 non-null  object        \n",
      " 8   production_companies  269234 non-null  object        \n",
      " 9   genres                403076 non-null  object        \n",
      " 10  status                571382 non-null  string        \n",
      " 11  original_language     571382 non-null  string        \n",
      " 12  runtime               542574 non-null  float64       \n",
      " 13  vote_count            571382 non-null  float64       \n",
      " 14  popularity            571382 non-null  float64       \n",
      "dtypes: datetime64[ns](1), float64(6), int64(1), object(5), string(2)\n",
      "memory usage: 65.4+ MB\n"
     ]
    }
   ],
   "source": [
    "grouped.info()"
   ]
  },
  {
   "cell_type": "code",
   "execution_count": 131,
   "metadata": {},
   "outputs": [
    {
     "data": {
      "text/plain": [
       "Title                        0\n",
       "id                           0\n",
       "revenue                      0\n",
       "budget                       0\n",
       "votes                        0\n",
       "release_date             44151\n",
       "Actors                  183024\n",
       "production_companies    302148\n",
       "genres                  168306\n",
       "status                       0\n",
       "original_language            0\n",
       "runtime                  28808\n",
       "vote_count                   0\n",
       "popularity                   0\n",
       "dtype: int64"
      ]
     },
     "execution_count": 131,
     "metadata": {},
     "output_type": "execute_result"
    }
   ],
   "source": [
    "grouped=grouped.drop(columns=[\"cleaned_title\"])\n",
    "grouped.isna().sum()"
   ]
  },
  {
   "cell_type": "code",
   "execution_count": 132,
   "metadata": {},
   "outputs": [
    {
     "name": "stderr",
     "output_type": "stream",
     "text": [
      "C:\\Users\\Mega Store\\AppData\\Local\\Temp\\ipykernel_14376\\1359037826.py:2: FutureWarning: A value is trying to be set on a copy of a DataFrame or Series through chained assignment using an inplace method.\n",
      "The behavior will change in pandas 3.0. This inplace method will never work because the intermediate object on which we are setting values always behaves as a copy.\n",
      "\n",
      "For example, when doing 'df[col].method(value, inplace=True)', try using 'df.method({col: value}, inplace=True)' or df[col] = df[col].method(value) instead, to perform the operation inplace on the original object.\n",
      "\n",
      "\n",
      "  grouped['release_date'].fillna(average_date, inplace=True)\n"
     ]
    }
   ],
   "source": [
    "average_date = grouped['release_date'].mean()\n",
    "grouped['release_date'].fillna(average_date, inplace=True)"
   ]
  },
  {
   "cell_type": "code",
   "execution_count": 133,
   "metadata": {},
   "outputs": [],
   "source": [
    "#recency column\n",
    "max_release_date = grouped[\"release_date\"].max()\n",
    "grouped[\"recency\"] = (max_release_date - grouped[\"release_date\"]).dt.days"
   ]
  },
  {
   "cell_type": "code",
   "execution_count": 134,
   "metadata": {},
   "outputs": [
    {
     "name": "stdout",
     "output_type": "stream",
     "text": [
      "<class 'pandas.core.frame.DataFrame'>\n",
      "RangeIndex: 571382 entries, 0 to 571381\n",
      "Data columns (total 15 columns):\n",
      " #   Column                Non-Null Count   Dtype         \n",
      "---  ------                --------------   -----         \n",
      " 0   Title                 571382 non-null  object        \n",
      " 1   id                    571382 non-null  int64         \n",
      " 2   revenue               571382 non-null  float64       \n",
      " 3   budget                571382 non-null  float64       \n",
      " 4   votes                 571382 non-null  float64       \n",
      " 5   release_date          571382 non-null  datetime64[ns]\n",
      " 6   Actors                388358 non-null  object        \n",
      " 7   production_companies  269234 non-null  object        \n",
      " 8   genres                403076 non-null  object        \n",
      " 9   status                571382 non-null  string        \n",
      " 10  original_language     571382 non-null  string        \n",
      " 11  runtime               542574 non-null  float64       \n",
      " 12  vote_count            571382 non-null  float64       \n",
      " 13  popularity            571382 non-null  float64       \n",
      " 14  recency               571382 non-null  int64         \n",
      "dtypes: datetime64[ns](1), float64(6), int64(2), object(4), string(2)\n",
      "memory usage: 65.4+ MB\n"
     ]
    }
   ],
   "source": [
    "grouped.info()"
   ]
  },
  {
   "cell_type": "code",
   "execution_count": 135,
   "metadata": {},
   "outputs": [],
   "source": [
    "grouped.dropna(subset=[\"Actors\", \"production_companies\", \"genres\"], inplace=True)\n"
   ]
  },
  {
   "cell_type": "code",
   "execution_count": 136,
   "metadata": {},
   "outputs": [
    {
     "name": "stdout",
     "output_type": "stream",
     "text": [
      "<class 'pandas.core.frame.DataFrame'>\n",
      "Index: 220498 entries, 6 to 571375\n",
      "Data columns (total 15 columns):\n",
      " #   Column                Non-Null Count   Dtype         \n",
      "---  ------                --------------   -----         \n",
      " 0   Title                 220498 non-null  object        \n",
      " 1   id                    220498 non-null  int64         \n",
      " 2   revenue               220498 non-null  float64       \n",
      " 3   budget                220498 non-null  float64       \n",
      " 4   votes                 220498 non-null  float64       \n",
      " 5   release_date          220498 non-null  datetime64[ns]\n",
      " 6   Actors                220498 non-null  object        \n",
      " 7   production_companies  220498 non-null  object        \n",
      " 8   genres                220498 non-null  object        \n",
      " 9   status                220498 non-null  string        \n",
      " 10  original_language     220498 non-null  string        \n",
      " 11  runtime               217245 non-null  float64       \n",
      " 12  vote_count            220498 non-null  float64       \n",
      " 13  popularity            220498 non-null  float64       \n",
      " 14  recency               220498 non-null  int64         \n",
      "dtypes: datetime64[ns](1), float64(6), int64(2), object(4), string(2)\n",
      "memory usage: 26.9+ MB\n"
     ]
    }
   ],
   "source": [
    "grouped.info()"
   ]
  },
  {
   "cell_type": "code",
   "execution_count": null,
   "metadata": {},
   "outputs": [],
   "source": [
    "'''# Function to handle 0 values in (revenue, budget, votes, vote_count, runtime, popularity)\n",
    "def replace_zero_values(df):\n",
    "    # Calculate the means of the columns (ensure mean values are calculated as floats)\n",
    "    mean_revenue = df['revenue'].mean()\n",
    "    mean_budget = df['budget'].mean()\n",
    "    mean_votes = df['votes'].mean()\n",
    "    mean_vote_count = df['vote_count'].mean()\n",
    "    mean_runtime = df['runtime'].mean()\n",
    "    mean_popularity = df['popularity'].mean()\n",
    "\n",
    "    # Find the maximum value of vote_count\n",
    "    max_vote_count = df['vote_count'].max()\n",
    "    \n",
    "    # Replace 0 values in 'revenue' with mean * random value\n",
    "    df['revenue'] = df['revenue'].apply(lambda x: mean_revenue * random.random() if x == 0 else x)\n",
    "    \n",
    "    # Replace 0 values in 'budget' with mean * random value\n",
    "    df['budget'] = df['budget'].apply(lambda x: mean_budget * random.random() if x == 0 else x)\n",
    "    \n",
    "    # Replace 0 values in 'votes' with mean * random value, and apply modulo 10\n",
    "    df['votes'] = df['votes'].apply(lambda x: (mean_votes * random.random()) % 10 if x == 0 else x)\n",
    "    \n",
    "    # Replace 0 values in 'vote_count' with mean * random value, but ensure it doesn't exceed the max value\n",
    "    df['vote_count'] = df['vote_count'].apply(lambda x: min(mean_vote_count * random.random(), max_vote_count) if x == 0 else x)\n",
    "    \n",
    "    # Replace 0 values in 'runtime' with mean * random value, but ensure it doesn't exceed 180\n",
    "    df['runtime'] = df['runtime'].apply(lambda x: min(mean_runtime * random.random(), 180) if x == 0 else x)\n",
    "    \n",
    "    # Replace 0 values in 'popularity' with mean * random value, but ensure it doesn't exceed 100\n",
    "    df['popularity'] = df['popularity'].apply(\n",
    "        lambda x: min((mean_popularity * random.random()) + random.random() * 10, 100) if x == 0 else x\n",
    "    )\n",
    "    \n",
    "    # Ensure popularity values are in the percentage range and handle low values\n",
    "    df['popularity'] = df['popularity'].apply(\n",
    "        lambda x: (x % 100) if x <= 100 else 100\n",
    "    )\n",
    "\n",
    "    return df\n",
    "\n",
    "# Apply the function to the grouped DataFrame\n",
    "grouped = replace_zero_values(grouped)\n",
    "'''\n"
   ]
  },
  {
   "cell_type": "code",
   "execution_count": 137,
   "metadata": {},
   "outputs": [],
   "source": [
    "# List of columns to check for 0 values\n",
    "columns_to_check = ['revenue', 'budget', 'votes', 'vote_count', 'runtime', 'popularity']\n",
    "\n",
    "# Filter out rows where any of these columns have 0 values\n",
    "ds_filtered = grouped[~(grouped[columns_to_check] == 0).any(axis=1)]"
   ]
  },
  {
   "cell_type": "code",
   "execution_count": 139,
   "metadata": {},
   "outputs": [
    {
     "data": {
      "text/html": [
       "<div>\n",
       "<style scoped>\n",
       "    .dataframe tbody tr th:only-of-type {\n",
       "        vertical-align: middle;\n",
       "    }\n",
       "\n",
       "    .dataframe tbody tr th {\n",
       "        vertical-align: top;\n",
       "    }\n",
       "\n",
       "    .dataframe thead th {\n",
       "        text-align: right;\n",
       "    }\n",
       "</style>\n",
       "<table border=\"1\" class=\"dataframe\">\n",
       "  <thead>\n",
       "    <tr style=\"text-align: right;\">\n",
       "      <th></th>\n",
       "      <th>id</th>\n",
       "      <th>revenue</th>\n",
       "      <th>budget</th>\n",
       "      <th>votes</th>\n",
       "      <th>release_date</th>\n",
       "      <th>runtime</th>\n",
       "      <th>vote_count</th>\n",
       "      <th>popularity</th>\n",
       "      <th>recency</th>\n",
       "    </tr>\n",
       "  </thead>\n",
       "  <tbody>\n",
       "    <tr>\n",
       "      <th>count</th>\n",
       "      <td>9282.000000</td>\n",
       "      <td>9.282000e+03</td>\n",
       "      <td>9.282000e+03</td>\n",
       "      <td>9282.000000</td>\n",
       "      <td>9282</td>\n",
       "      <td>9274.000000</td>\n",
       "      <td>9282.000000</td>\n",
       "      <td>9282.000000</td>\n",
       "      <td>9282.000000</td>\n",
       "    </tr>\n",
       "    <tr>\n",
       "      <th>mean</th>\n",
       "      <td>166272.979315</td>\n",
       "      <td>5.304714e+07</td>\n",
       "      <td>1.834607e+07</td>\n",
       "      <td>5.510470</td>\n",
       "      <td>2002-07-03 11:09:29.773772160</td>\n",
       "      <td>93.966119</td>\n",
       "      <td>1134.329188</td>\n",
       "      <td>20.387307</td>\n",
       "      <td>16983.534906</td>\n",
       "    </tr>\n",
       "    <tr>\n",
       "      <th>min</th>\n",
       "      <td>5.000000</td>\n",
       "      <td>1.111111e-01</td>\n",
       "      <td>3.703704e-02</td>\n",
       "      <td>0.333333</td>\n",
       "      <td>1902-04-17 00:00:00</td>\n",
       "      <td>1.000000</td>\n",
       "      <td>0.111111</td>\n",
       "      <td>0.600000</td>\n",
       "      <td>9319.000000</td>\n",
       "    </tr>\n",
       "    <tr>\n",
       "      <th>25%</th>\n",
       "      <td>10608.000000</td>\n",
       "      <td>1.017432e+06</td>\n",
       "      <td>1.100000e+06</td>\n",
       "      <td>4.150000</td>\n",
       "      <td>1995-10-30 18:00:00</td>\n",
       "      <td>75.146617</td>\n",
       "      <td>43.000000</td>\n",
       "      <td>3.427115</td>\n",
       "      <td>12386.500000</td>\n",
       "    </tr>\n",
       "    <tr>\n",
       "      <th>50%</th>\n",
       "      <td>36947.000000</td>\n",
       "      <td>8.038284e+06</td>\n",
       "      <td>5.714286e+06</td>\n",
       "      <td>6.000000</td>\n",
       "      <td>2007-07-02 00:00:00</td>\n",
       "      <td>96.000000</td>\n",
       "      <td>231.714286</td>\n",
       "      <td>8.416500</td>\n",
       "      <td>15159.000000</td>\n",
       "    </tr>\n",
       "    <tr>\n",
       "      <th>75%</th>\n",
       "      <td>290446.500000</td>\n",
       "      <td>3.912710e+07</td>\n",
       "      <td>2.000000e+07</td>\n",
       "      <td>6.800000</td>\n",
       "      <td>2015-02-02 12:00:00</td>\n",
       "      <td>113.000000</td>\n",
       "      <td>988.000000</td>\n",
       "      <td>16.362875</td>\n",
       "      <td>19421.250000</td>\n",
       "    </tr>\n",
       "    <tr>\n",
       "      <th>max</th>\n",
       "      <td>967392.000000</td>\n",
       "      <td>2.799439e+09</td>\n",
       "      <td>4.600000e+08</td>\n",
       "      <td>10.000000</td>\n",
       "      <td>2023-06-28 00:00:00</td>\n",
       "      <td>842.000000</td>\n",
       "      <td>30708.000000</td>\n",
       "      <td>6682.100000</td>\n",
       "      <td>53586.000000</td>\n",
       "    </tr>\n",
       "    <tr>\n",
       "      <th>std</th>\n",
       "      <td>229027.779130</td>\n",
       "      <td>1.398573e+08</td>\n",
       "      <td>3.428433e+07</td>\n",
       "      <td>1.861016</td>\n",
       "      <td>NaN</td>\n",
       "      <td>33.812338</td>\n",
       "      <td>2547.798136</td>\n",
       "      <td>141.811502</td>\n",
       "      <td>6573.102923</td>\n",
       "    </tr>\n",
       "  </tbody>\n",
       "</table>\n",
       "</div>"
      ],
      "text/plain": [
       "                  id       revenue        budget        votes  \\\n",
       "count    9282.000000  9.282000e+03  9.282000e+03  9282.000000   \n",
       "mean   166272.979315  5.304714e+07  1.834607e+07     5.510470   \n",
       "min         5.000000  1.111111e-01  3.703704e-02     0.333333   \n",
       "25%     10608.000000  1.017432e+06  1.100000e+06     4.150000   \n",
       "50%     36947.000000  8.038284e+06  5.714286e+06     6.000000   \n",
       "75%    290446.500000  3.912710e+07  2.000000e+07     6.800000   \n",
       "max    967392.000000  2.799439e+09  4.600000e+08    10.000000   \n",
       "std    229027.779130  1.398573e+08  3.428433e+07     1.861016   \n",
       "\n",
       "                        release_date      runtime    vote_count   popularity  \\\n",
       "count                           9282  9274.000000   9282.000000  9282.000000   \n",
       "mean   2002-07-03 11:09:29.773772160    93.966119   1134.329188    20.387307   \n",
       "min              1902-04-17 00:00:00     1.000000      0.111111     0.600000   \n",
       "25%              1995-10-30 18:00:00    75.146617     43.000000     3.427115   \n",
       "50%              2007-07-02 00:00:00    96.000000    231.714286     8.416500   \n",
       "75%              2015-02-02 12:00:00   113.000000    988.000000    16.362875   \n",
       "max              2023-06-28 00:00:00   842.000000  30708.000000  6682.100000   \n",
       "std                              NaN    33.812338   2547.798136   141.811502   \n",
       "\n",
       "            recency  \n",
       "count   9282.000000  \n",
       "mean   16983.534906  \n",
       "min     9319.000000  \n",
       "25%    12386.500000  \n",
       "50%    15159.000000  \n",
       "75%    19421.250000  \n",
       "max    53586.000000  \n",
       "std     6573.102923  "
      ]
     },
     "execution_count": 139,
     "metadata": {},
     "output_type": "execute_result"
    }
   ],
   "source": [
    "\n",
    "\n",
    "ds_filtered.describe()"
   ]
  },
  {
   "cell_type": "code",
   "execution_count": null,
   "metadata": {},
   "outputs": [],
   "source": []
  },
  {
   "cell_type": "code",
   "execution_count": 2,
   "metadata": {},
   "outputs": [],
   "source": [
    "#ds_filtered.to_csv(\"D:\\\\College FCDS\\\\Assignments\\\\y2t1\\\\DSmethodology\\\\AccurateVersion.csv\", index=False)\n",
    "dataset= pd.read_csv(\"D:\\\\College FCDS\\\\Assignments\\\\y2t1\\\\DSmethodology\\\\AccurateVersion.csv\")\n",
    "\n",
    "dataset[\"Net_profit\"]=dataset[\"revenue\"]-dataset[\"budget\"]"
   ]
  },
  {
   "cell_type": "code",
   "execution_count": 10,
   "metadata": {},
   "outputs": [
    {
     "ename": "OperationalError",
     "evalue": "('08001', '[08001] [Microsoft][ODBC Driver 17 for SQL Server]Named Pipes Provider: Could not open a connection to SQL Server [2].  (2) (SQLDriverConnect); [08001] [Microsoft][ODBC Driver 17 for SQL Server]Login timeout expired (0); [08001] [Microsoft][ODBC Driver 17 for SQL Server]A network-related or instance-specific error has occurred while establishing a connection to SQL Server. Server is not found or not accessible. Check if instance name is correct and if SQL Server is configured to allow remote connections. For more information see SQL Server Books Online. (2)')",
     "output_type": "error",
     "traceback": [
      "\u001b[1;31m---------------------------------------------------------------------------\u001b[0m",
      "\u001b[1;31mOperationalError\u001b[0m                          Traceback (most recent call last)",
      "Cell \u001b[1;32mIn[10], line 1\u001b[0m\n\u001b[1;32m----> 1\u001b[0m conn\u001b[38;5;241m=\u001b[39m \u001b[43mpyodbc\u001b[49m\u001b[38;5;241;43m.\u001b[39;49m\u001b[43mconnect\u001b[49m\u001b[43m(\u001b[49m\u001b[38;5;124;43m'\u001b[39;49m\u001b[38;5;124;43mDRIVER=\u001b[39;49m\u001b[38;5;124;43m{\u001b[39;49m\u001b[38;5;124;43mODBC Driver 17 for SQL Server};\u001b[39;49m\u001b[38;5;124;43m'\u001b[39;49m\n\u001b[0;32m      2\u001b[0m \u001b[43m                          \u001b[49m\u001b[38;5;124;43m'\u001b[39;49m\u001b[38;5;124;43mSERVER=localhost;\u001b[39;49m\u001b[38;5;124;43m'\u001b[39;49m\n\u001b[0;32m      3\u001b[0m \u001b[43m                          \u001b[49m\u001b[38;5;124;43m'\u001b[39;49m\u001b[38;5;124;43mDATABASE=MovieDB;\u001b[39;49m\u001b[38;5;124;43m'\u001b[39;49m\n\u001b[0;32m      4\u001b[0m \u001b[43m                          \u001b[49m\u001b[38;5;124;43m'\u001b[39;49m\u001b[38;5;124;43mUID=amr;\u001b[39;49m\u001b[38;5;124;43m'\u001b[39;49m\n\u001b[0;32m      5\u001b[0m \u001b[43m                          \u001b[49m\u001b[38;5;124;43m'\u001b[39;49m\u001b[38;5;124;43mPWD=dbassign1\u001b[39;49m\u001b[38;5;124;43m'\u001b[39;49m\n\u001b[0;32m      6\u001b[0m \u001b[43m                          \u001b[49m\u001b[43m)\u001b[49m\n\u001b[0;32m      7\u001b[0m cursor \u001b[38;5;241m=\u001b[39m conn\u001b[38;5;241m.\u001b[39mcursor()\n",
      "\u001b[1;31mOperationalError\u001b[0m: ('08001', '[08001] [Microsoft][ODBC Driver 17 for SQL Server]Named Pipes Provider: Could not open a connection to SQL Server [2].  (2) (SQLDriverConnect); [08001] [Microsoft][ODBC Driver 17 for SQL Server]Login timeout expired (0); [08001] [Microsoft][ODBC Driver 17 for SQL Server]A network-related or instance-specific error has occurred while establishing a connection to SQL Server. Server is not found or not accessible. Check if instance name is correct and if SQL Server is configured to allow remote connections. For more information see SQL Server Books Online. (2)')"
     ]
    }
   ],
   "source": [
    "conn= pyodbc.connect('DRIVER={ODBC Driver 17 for SQL Server};'\n",
    "                          'SERVER=localhost;'\n",
    "                          'DATABASE=MovieDB;'\n",
    "                          'UID=amr;'\n",
    "                          'PWD=dbassign1'\n",
    "                          )\n",
    "cursor = conn.cursor()"
   ]
  }
 ],
 "metadata": {
  "kernelspec": {
   "display_name": "Python 3",
   "language": "python",
   "name": "python3"
  },
  "language_info": {
   "codemirror_mode": {
    "name": "ipython",
    "version": 3
   },
   "file_extension": ".py",
   "mimetype": "text/x-python",
   "name": "python",
   "nbconvert_exporter": "python",
   "pygments_lexer": "ipython3",
   "version": "3.12.5"
  }
 },
 "nbformat": 4,
 "nbformat_minor": 2
}
